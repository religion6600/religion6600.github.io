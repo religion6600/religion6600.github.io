{
  "cells": [
    {
      "cell_type": "markdown",
      "metadata": {},
      "source": [
        "---\n",
        "title: \"QDA\"\n",
        "author: \"Lizzie Healy\"\n",
        "date: last-modified\n",
        "format:\n",
        "    html:\n",
        "        embed-resources: true\n",
        "---\n",
        "\n",
        "\n",
        "\n",
        "\n",
        "\n",
        "## Quadratic Discriminant Analysis\n",
        "\n",
        "#### Reading in the Data\n"
      ],
      "id": "18668bb6"
    },
    {
      "cell_type": "code",
      "metadata": {},
      "source": [
        "import pandas as pd\n",
        "\n",
        "# reading in data\n",
        "religion = pd.read_csv(\"../data/religion_data_no99.csv\")\n",
        "\n",
        "print(religion.head(5))\n",
        "\n",
        "# getting the x and y variables"
      ],
      "id": "e33d9410",
      "execution_count": null,
      "outputs": []
    },
    {
      "cell_type": "markdown",
      "metadata": {},
      "source": [
        "#### Preprocessing\n"
      ],
      "id": "4f91b1e5"
    },
    {
      "cell_type": "code",
      "metadata": {},
      "source": [
        "scaler = StandardScaler()\n",
        "X = scaler.fit_transform(X)\n",
        "\n",
        "# split data into test, train, validation\n",
        "X_tmp, X_test, y_tmp, y_test = train_test_split(X, y, test_size=0.2, random_state=42)\n",
        "X_train, X_val, y_train, y_val = train_test_split(X_tmp, y_tmp, test_size=0.2, random_state=42)\n",
        "\n",
        "# print\n",
        "print(\"\\nTRAIN\")\n",
        "print(X_train.shape)\n",
        "print(y_train.shape)\n",
        "\n",
        "print(\"\\nVALIDATION\")\n",
        "print(X_val.shape)\n",
        "print(y_val.shape)\n",
        "\n",
        "print(\"\\nTEST\")\n",
        "print(X_test.shape)\n",
        "print(y_test.shape)"
      ],
      "id": "0a04e06d",
      "execution_count": null,
      "outputs": []
    },
    {
      "cell_type": "markdown",
      "metadata": {},
      "source": [
        "### Performing QDA"
      ],
      "id": "2340d5f6"
    }
  ],
  "metadata": {
    "kernelspec": {
      "name": "python3",
      "language": "python",
      "display_name": "Python 3 (ipykernel)",
      "path": "C:\\Users\\court\\anaconda3\\share\\jupyter\\kernels\\python3"
    }
  },
  "nbformat": 4,
  "nbformat_minor": 5
}